{
 "cells": [
  {
   "cell_type": "markdown",
   "id": "5261898e",
   "metadata": {},
   "source": [
    "# spee.ch API - Example Usage"
   ]
  },
  {
   "cell_type": "markdown",
   "id": "c213a013",
   "metadata": {},
   "source": [
    "## Imports and Functions Definitions"
   ]
  },
  {
   "cell_type": "code",
   "execution_count": 1,
   "id": "1802ad7a",
   "metadata": {},
   "outputs": [],
   "source": [
    "import requests\n",
    "from requests import ConnectionError"
   ]
  },
  {
   "cell_type": "code",
   "execution_count": 2,
   "id": "54e0b17a",
   "metadata": {},
   "outputs": [],
   "source": [
    "port = \"https://spee.ch/api/claim/publish\""
   ]
  },
  {
   "cell_type": "code",
   "execution_count": 3,
   "id": "9cf9c082",
   "metadata": {},
   "outputs": [],
   "source": [
    "def get_req_json(port, file, data) -> dict:\n",
    "    \"\"\"Perform post request to spee.ch, get back the returned json.\"\"\"\n",
    "    try:\n",
    "        return requests.post(port, files={\"file\": file}, data=data).json()\n",
    "    except ConnectionError as e:\n",
    "        raise e from None"
   ]
  },
  {
   "cell_type": "code",
   "execution_count": 4,
   "id": "da396427",
   "metadata": {},
   "outputs": [],
   "source": [
    "def get_req_data(req_json) -> dict:\n",
    "    \"\"\"Try to get 'data' from json, except error occured in the post request.\"\"\"\n",
    "    try:\n",
    "        return req_json[\"data\"]\n",
    "    except KeyError as e:\n",
    "        print(req_json[\"error\"])"
   ]
  },
  {
   "cell_type": "markdown",
   "id": "8c10a68a",
   "metadata": {},
   "source": [
    "## /api/claim/publish"
   ]
  },
  {
   "cell_type": "code",
   "execution_count": 5,
   "id": "1f2c17d5",
   "metadata": {},
   "outputs": [],
   "source": [
    "with open(\"./test_image.jpg\", \"rb\") as f:\n",
    "    file = f.read()"
   ]
  },
  {
   "cell_type": "code",
   "execution_count": 6,
   "id": "f3b9a1fb",
   "metadata": {},
   "outputs": [
    {
     "name": "stdout",
     "output_type": "stream",
     "text": [
      "name:\tcc7f035870898039\n",
      "claimId:\tfdae1e5bb7e5e198375aac11627b9ef658243fa6\n",
      "url:\thttps://spee.ch/f/cc7f035870898039\n",
      "showUrl:\thttps://spee.ch/f/cc7f035870898039\n",
      "serveUrl:\thttps://spee.ch/f/cc7f035870898039.jpg\n",
      "pushTo:\tf/cc7f035870898039\n",
      "claimData:\t{'name': 'cc7f035870898039', 'claimId': 'fdae1e5bb7e5e198375aac11627b9ef658243fa6', 'title': 'cc7f035870898039', 'description': '', 'address': 'ba6etmwQwgca8w6i4Kv2UstN1yrKoReSvX', 'outpoint': 'ba215130b8c0bee99d1f07cc78f8c441de63ea0b6f4f495b569613f961fb6aa9:0', 'height': -2, 'contentType': 'claim', 'amount': '0.001', 'certificateId': None, 'channelName': None}\n"
     ]
    }
   ],
   "source": [
    "req_json = get_req_json(port, file, {\"name\": \"testimage\"})\n",
    "req_data = get_req_data(req_json)\n",
    "for key, val in req_data.items():\n",
    "    print(f'{key}:\\t{val}')"
   ]
  },
  {
   "cell_type": "code",
   "execution_count": 7,
   "id": "94fdcedb",
   "metadata": {},
   "outputs": [
    {
     "data": {
      "text/html": [
       "<img src=\"https://spee.ch/f/cc7f035870898039.jpg\"/>"
      ],
      "text/plain": [
       "<IPython.core.display.Image object>"
      ]
     },
     "execution_count": 7,
     "metadata": {},
     "output_type": "execute_result"
    }
   ],
   "source": [
    "from IPython.display import Image\n",
    "from IPython.core.display import HTML \n",
    "Image(url=req_data[\"serveUrl\"])"
   ]
  }
 ],
 "metadata": {
  "kernelspec": {
   "display_name": "Python 3 (ipykernel)",
   "language": "python",
   "name": "python3"
  },
  "language_info": {
   "codemirror_mode": {
    "name": "ipython",
    "version": 3
   },
   "file_extension": ".py",
   "mimetype": "text/x-python",
   "name": "python",
   "nbconvert_exporter": "python",
   "pygments_lexer": "ipython3",
   "version": "3.10.4"
  }
 },
 "nbformat": 4,
 "nbformat_minor": 5
}
