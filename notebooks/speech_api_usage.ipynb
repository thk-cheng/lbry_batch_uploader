{
 "cells": [
  {
   "cell_type": "code",
   "execution_count": 1,
   "id": "1802ad7a",
   "metadata": {},
   "outputs": [],
   "source": [
    "import requests"
   ]
  },
  {
   "cell_type": "code",
   "execution_count": 2,
   "id": "54e0b17a",
   "metadata": {},
   "outputs": [],
   "source": [
    "port = \"https://spee.ch/api/claim/publish\""
   ]
  },
  {
   "cell_type": "markdown",
   "id": "8c10a68a",
   "metadata": {},
   "source": [
    "## /api/claim/publish"
   ]
  },
  {
   "cell_type": "code",
   "execution_count": 3,
   "id": "1f2c17d5",
   "metadata": {},
   "outputs": [],
   "source": [
    "with open(\"/Users/kennethcheng/Downloads/sample-thumbnail.jpg\", \"rb\") as f:\n",
    "    file = f.read()"
   ]
  },
  {
   "cell_type": "code",
   "execution_count": 4,
   "id": "f3b9a1fb",
   "metadata": {},
   "outputs": [],
   "source": [
    "req_json = requests.post(\n",
    "    port,\n",
    "    files={\"file\": file},\n",
    "    data={\n",
    "        \"name\": \"sample-thumbnail\",\n",
    "    }\n",
    ").json()"
   ]
  },
  {
   "cell_type": "code",
   "execution_count": 5,
   "id": "af572aec",
   "metadata": {},
   "outputs": [],
   "source": [
    "req_data = req_json['data']"
   ]
  },
  {
   "cell_type": "code",
   "execution_count": 6,
   "id": "0f3634ab",
   "metadata": {},
   "outputs": [
    {
     "name": "stdout",
     "output_type": "stream",
     "text": [
      "name:\t64c8f75190506cca\n",
      "claimId:\t399274992489d14be3134d80ff7fab8921b4e913\n",
      "url:\thttps://spee.ch/3/64c8f75190506cca\n",
      "showUrl:\thttps://spee.ch/3/64c8f75190506cca\n",
      "serveUrl:\thttps://spee.ch/3/64c8f75190506cca.jpg\n",
      "pushTo:\t3/64c8f75190506cca\n",
      "claimData:\t{'name': '64c8f75190506cca', 'claimId': '399274992489d14be3134d80ff7fab8921b4e913', 'title': '64c8f75190506cca', 'description': '', 'address': 'ba6etmwQwgca8w6i4Kv2UstN1yrKoReSvX', 'outpoint': 'ca26daec4c7bbb0ad7d98b6fb124fb2f8cb212fa4b315cb41556c49aab22ae4c:0', 'height': -2, 'contentType': 'claim', 'amount': '0.001', 'certificateId': None, 'channelName': None}\n"
     ]
    }
   ],
   "source": [
    "for key, val in req_data.items():\n",
    "    print(f'{key}:\\t{val}')"
   ]
  },
  {
   "cell_type": "markdown",
   "id": "597eeb7f",
   "metadata": {},
   "source": [
    " "
   ]
  }
 ],
 "metadata": {
  "kernelspec": {
   "display_name": "Python 3 (ipykernel)",
   "language": "python",
   "name": "python3"
  },
  "language_info": {
   "codemirror_mode": {
    "name": "ipython",
    "version": 3
   },
   "file_extension": ".py",
   "mimetype": "text/x-python",
   "name": "python",
   "nbconvert_exporter": "python",
   "pygments_lexer": "ipython3",
   "version": "3.10.4"
  }
 },
 "nbformat": 4,
 "nbformat_minor": 5
}
