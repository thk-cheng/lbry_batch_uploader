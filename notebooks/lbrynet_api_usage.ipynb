{
 "cells": [
  {
   "cell_type": "code",
   "execution_count": 1,
   "id": "a73b02ef",
   "metadata": {},
   "outputs": [],
   "source": [
    "import requests"
   ]
  },
  {
   "cell_type": "code",
   "execution_count": 2,
   "id": "e642c804",
   "metadata": {},
   "outputs": [],
   "source": [
    "port = \"http://localhost:5279\""
   ]
  },
  {
   "cell_type": "markdown",
   "id": "74afd55e",
   "metadata": {},
   "source": [
    "## ffmpeg_find\n",
    "#### Get ffmpeg installation information"
   ]
  },
  {
   "cell_type": "code",
   "execution_count": null,
   "id": "1986c384",
   "metadata": {},
   "outputs": [],
   "source": [
    "req_json = requests.post(port, json={\"method\": \"ffmpeg_find\"}).json()"
   ]
  },
  {
   "cell_type": "code",
   "execution_count": 4,
   "id": "9c440c36",
   "metadata": {},
   "outputs": [],
   "source": [
    "req_result = req_json['result']"
   ]
  },
  {
   "cell_type": "code",
   "execution_count": 5,
   "id": "2230cd57",
   "metadata": {},
   "outputs": [
    {
     "name": "stdout",
     "output_type": "stream",
     "text": [
      "analyze_audio_volume:\tTrue\n",
      "available:\tTrue\n",
      "which:\t/opt/homebrew/Cellar/ffmpeg/5.0.1/bin/ffmpeg\n"
     ]
    }
   ],
   "source": [
    "for key, val in req_result.items():\n",
    "    print(f'{key}:\\t{val}')"
   ]
  },
  {
   "cell_type": "markdown",
   "id": "4e07bf49",
   "metadata": {},
   "source": [
    "## get\n",
    "\n",
    "#### Download stream from a LBRY name"
   ]
  },
  {
   "cell_type": "code",
   "execution_count": 6,
   "id": "c7353cad",
   "metadata": {},
   "outputs": [],
   "source": [
    "req_json = requests.post(\n",
    "    port,\n",
    "    json={\n",
    "        \"method\": \"get\",\n",
    "        \"params\": {\n",
    "            \"uri\": \"lbry://@AlphaNerd#8/firefox-100-new-features#5\",\n",
    "            # \"file_name\": \"(str) specified name for the downloaded file, overrides the stream file name\",\n",
    "            # \"download_directory\": \"(str) full path to the directory to download into\",\n",
    "            # \"timeout\": \"(int) download timeout in number of seconds\",\n",
    "            # \"save_file\": \"(bool) save the file to the downloads directory\",\n",
    "            # \"wallet_id\": \"(str) wallet to check for claim purchase receipts\",\n",
    "        },\n",
    "    }\n",
    ").json()"
   ]
  },
  {
   "cell_type": "code",
   "execution_count": 7,
   "id": "db6499b4",
   "metadata": {},
   "outputs": [],
   "source": [
    "req_result = req_json['result']"
   ]
  },
  {
   "cell_type": "code",
   "execution_count": 8,
   "id": "dac859d2",
   "metadata": {
    "scrolled": true
   },
   "outputs": [
    {
     "name": "stdout",
     "output_type": "stream",
     "text": [
      "added_on:\t1651943352\n",
      "blobs_completed:\t5\n",
      "blobs_in_stream:\t22\n",
      "blobs_remaining:\t17\n",
      "channel_claim_id:\t8d497e7e96c789364c56aea7a35827d2dc1eea65\n",
      "channel_name:\t@AlphaNerd\n",
      "claim_id:\t5baa43370cd56e371b1402e49427261dd3431073\n",
      "claim_name:\tfirefox-100-new-features\n",
      "completed:\tFalse\n",
      "confirmations:\t1611\n",
      "content_fee:\tNone\n",
      "download_directory:\tNone\n",
      "download_path:\tNone\n",
      "file_name:\tNone\n",
      "height:\t1154409\n",
      "is_fully_reflected:\tTrue\n",
      "key:\tbf2f04bafdb89463ba0487ec7b25aa52\n",
      "metadata:\t{'description': 'Follow me on Odysee\\nhttps://odysee.com/@AlphaNerd:8\\n\\n₿💰💵💲Help Support the Channel by Donating Crypto💲💵💰₿\\n\\nMonero\\n45F2bNHVcRzXVBsvZ5giyvKGAgm6LFhMsjUUVPTEtdgJJ5SNyxzSNUmFSBR5qCCWLpjiUjYMkmZoX9b3cChNjvxR7kvh436\\n\\nBitcoin\\n3MMKHXPQrGHEsmdHaAGD59FWhKFGeUsAxV\\n\\nEthereum\\n0xeA4DA3F9BAb091Eb86921CA6E41712438f4E5079\\n\\nLitecoin\\nMBfrxLJMuw26hbVi2MjCVDFkkExz8rYvUF\\n\\nDash\\nXh9PXPEy5RoLJgFDGYCDjrbXdjshMaYerz\\n\\nZcash\\nt1aWtU5SBpxuUWBSwDKy4gTkT2T1ZwtFvrr\\n\\nChainlink\\n0x0f7f21D267d2C9dbae17fd8c20012eFEA3678F14\\n\\nBitcoin Cash\\nqz2st00dtu9e79zrq5wshsgaxsjw299n7c69th8ryp\\n\\nEtherum Classic\\n0xeA641e59913960f578ad39A6B4d02051A5556BfC\\n\\nUSD Coin\\n0x0B045f743A693b225630862a3464B52fefE79FdB\\n\\nSubscribe to my YouTube channel http://goo.gl/9U10Wz\\nand be sure to click that notification bell so you know when new videos are released.\\n...\\nhttps://www.youtube.com/watch?v=rlb1__4-rns', 'languages': ['en'], 'license': 'Copyrighted (contact publisher)', 'release_time': '1651704591', 'source': {'hash': '318168cf40543e009d262b6711d17e6d824287ce8ff0d72a62671e7b907664b48f3cf67d1913199908c3a2744b742fd3', 'media_type': 'video/mp4', 'name': 'firefox-100-new-features.mp4', 'sd_hash': '2bdfa08d888d73333f087e5cf0d918a50444c79e39019e72042879660ff4c65d8e926ec5603c48a4edf2c73c683c02ae', 'size': '46053965'}, 'stream_type': 'video', 'tags': ['100', 'firefox', 'firefox 100', 'firefox update', 'firefox version 100', 'firefox100', 'mental', 'mental outlaw', 'mozilla firefox', 'outlaw'], 'thumbnail': {'url': 'https://thumbnails.lbry.com/rlb1__4-rns'}, 'title': 'Firefox 100 New Features', 'video': {'duration': 433, 'height': 1080, 'width': 1920}}\n",
      "mime_type:\tvideo/mp4\n",
      "nout:\t0\n",
      "outpoint:\t15a4760da5b620eec53f8bc7c42be245a6c5ad6bcd1c4b4f30aa8a52027c7539:0\n",
      "points_paid:\t0.0\n",
      "protobuf:\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\n",
      "purchase_receipt:\tNone\n",
      "reflector_progress:\t0\n",
      "sd_hash:\t2bdfa08d888d73333f087e5cf0d918a50444c79e39019e72042879660ff4c65d8e926ec5603c48a4edf2c73c683c02ae\n",
      "status:\trunning\n",
      "stopped:\tFalse\n",
      "stream_hash:\t8760553c6503f6cf1dc4936c50a1bd0ffcd451806a9ce01c1ee346a4c4bdfa00ad2754a23d95d83be182ee9f45de3935\n",
      "stream_name:\tfirefox-100-new-features.mp4\n",
      "streaming_url:\thttp://localhost:5280/stream/2bdfa08d888d73333f087e5cf0d918a50444c79e39019e72042879660ff4c65d8e926ec5603c48a4edf2c73c683c02ae\n",
      "suggested_file_name:\tfirefox-100-new-features.mp4\n",
      "timestamp:\t1651705560\n",
      "total_bytes:\t46053979\n",
      "total_bytes_lower_bound:\t46053963\n",
      "txid:\t15a4760da5b620eec53f8bc7c42be245a6c5ad6bcd1c4b4f30aa8a52027c7539\n",
      "uploading_to_reflector:\tFalse\n",
      "written_bytes:\t0\n"
     ]
    }
   ],
   "source": [
    "for key, val in req_result.items():\n",
    "    print(f'{key}:\\t{val}')"
   ]
  },
  {
   "cell_type": "markdown",
   "id": "763d765e",
   "metadata": {},
   "source": [
    "## publish\n",
    "#### Create or replace a stream claim at a given name (use 'stream create/update' for more control)"
   ]
  },
  {
   "cell_type": "code",
   "execution_count": 9,
   "id": "a2cd3b24",
   "metadata": {},
   "outputs": [],
   "source": [
    "req_json = requests.post(\n",
    "    port,\n",
    "    json={\n",
    "        \"method\": \"publish\",\n",
    "        \"params\": {\n",
    "            \"name\": \"sample-video\",\n",
    "            \"bid\": \"0.0001\",\n",
    "            \"file_path\": \"/Users/kennethcheng/Downloads/sample_vid.webm\",\n",
    "            # \"file_name\": \"name of file to be associated with stream\",\n",
    "            # \"file_hash\": \"(str) hash of file to be associated with stream\",\n",
    "            # \"validate_file\": \"\"\"(bool) validate that the video container and \\\n",
    "            #                     encodings match common web browser support or \\\n",
    "            #                     that optimization succeeds if specified. \\\n",
    "            #                     FFmpeg is required\"\"\",\n",
    "            \"optimize_file\": True,\n",
    "            # \"fee_currency\": \"(str) specify fee currency\",\n",
    "            # \"fee_amount\": \"(float) content download fee\",\n",
    "            # \"fee_address\": \"\"\"(str) address where to send fee payments, \\\n",
    "            #                     will use value from --claim_address if not provided\"\"\",\n",
    "            \"title\": \"Sample Video\",\n",
    "            \"description\": \"This is a sample video\",\n",
    "            # \"author\": \"(str) author of the publication\",\n",
    "            \"tags\": ['sample', 'video'],\n",
    "            \"languages\": ['zh-Hant'],\n",
    "            # \"locations\": [{'country': 'US', 'state': 'NH'}],\n",
    "            \"license\": \"Public Domain\",\n",
    "            # \"license_url\": \"(str) publication license url\",\n",
    "            \"thumbnail_url\": \"https://na.cx/i/cAkMKgG.jpg\",\n",
    "            # \"release_time\": \"(int) original public release of content, seconds since UNIX epoch\",\n",
    "            # \"channel_id\": \"87a5389f61b25210e8d44ba480123dc287c1c5df\",\n",
    "            \"channel_name\": \"@batch-upload-testing\",\n",
    "            # \"channel_account_id\": \"\"\"(str) one or more account ids for accounts \\\n",
    "            #                             to look in for channel certificates, \\\n",
    "            #                             defaults to all accounts\"\"\",\n",
    "            # \"account_id\": \"(str) account to use for holding the transaction\",\n",
    "            # \"wallet_id\": \"(str) restrict operation to specific wallet\",\n",
    "            # \"funding_account_ids\": [\"(list) ids of accounts to fund this transaction\"],\n",
    "            # \"claim_address\": \"\"\"(str) address where the claim is sent to, \\\n",
    "            #                     if not specified it will be determined \\\n",
    "            #                     automatically from the account\"\"\",\n",
    "            \"preview\": False,\n",
    "            \"blocking\": False,\n",
    "        },\n",
    "    }\n",
    ").json()"
   ]
  },
  {
   "cell_type": "code",
   "execution_count": 10,
   "id": "e012c3d2",
   "metadata": {},
   "outputs": [],
   "source": [
    "req_result = req_json['result']"
   ]
  },
  {
   "cell_type": "code",
   "execution_count": 11,
   "id": "d175ecca",
   "metadata": {},
   "outputs": [],
   "source": [
    "req_result_inputs = req_result['inputs'][0]"
   ]
  },
  {
   "cell_type": "code",
   "execution_count": 12,
   "id": "b67a90cf",
   "metadata": {},
   "outputs": [
    {
     "name": "stdout",
     "output_type": "stream",
     "text": [
      "address:\tbE7GLBNAi7ctASrhYvrQBTzrNnSCJ149hZ\n",
      "amount:\t0.3\n",
      "confirmations:\t2768\n",
      "height:\t1153158\n",
      "nout:\t1\n",
      "timestamp:\t1651505431\n",
      "txid:\t0f12548c7f74cd81ec153d728286b14b52697218035118f03c9298a8dfbcb225\n",
      "type:\tpayment\n"
     ]
    }
   ],
   "source": [
    "for key, val in req_result_inputs.items():\n",
    "    print(f'{key}:\\t{val}')"
   ]
  },
  {
   "cell_type": "code",
   "execution_count": 13,
   "id": "1cced97a",
   "metadata": {},
   "outputs": [],
   "source": [
    "req_result_outputs = req_result['outputs'][0]"
   ]
  },
  {
   "cell_type": "code",
   "execution_count": 14,
   "id": "d53b1189",
   "metadata": {
    "scrolled": true
   },
   "outputs": [
    {
     "name": "stdout",
     "output_type": "stream",
     "text": [
      "address:\tbZHWLe5k3myUCGVMGQfLGqDHAWwV4ArD8L\n",
      "amount:\t0.0001\n",
      "claim_id:\t0550be512faca0b0512a14ec4fdef575f1665947\n",
      "claim_op:\tcreate\n",
      "confirmations:\t-2\n",
      "height:\t-2\n",
      "is_channel_signature_valid:\tTrue\n",
      "meta:\t{}\n",
      "name:\tsample-video\n",
      "normalized_name:\tsample-video\n",
      "nout:\t0\n",
      "permanent_url:\tlbry://sample-video#0550be512faca0b0512a14ec4fdef575f1665947\n",
      "signing_channel:\t{'address': 'bE5azpNrAToMJwuy1oqcRd4QSs9jADoPUM', 'amount': '0.0001', 'claim_id': '87a5389f61b25210e8d44ba480123dc287c1c5df', 'claim_op': 'update', 'confirmations': 4957, 'has_signing_key': True, 'height': 1150969, 'meta': {}, 'name': '@batch-upload-testing', 'normalized_name': '@batch-upload-testing', 'nout': 0, 'permanent_url': 'lbry://@batch-upload-testing#87a5389f61b25210e8d44ba480123dc287c1c5df', 'timestamp': 1651153675, 'txid': '8c1ccf7a558bd22657fe21d9d37bfd7fd45afd627e57e8cb628702dd682cc473', 'type': 'claim', 'value': {'cover': {'url': 'https://spee.ch/1/d2fa6df5f02cc1dc.jpg'}, 'description': 'This channel is for testing purpose only.', 'languages': ['en', 'zh-Hant'], 'public_key': '3056301006072a8648ce3d020106052b8104000a03420004f1fba5cdc87bdf87ce404a3498360d704db65e64478fb5a43591283ce154a6ad5ba37cf0fb06826d26fdc079ffdebc128008efef8019ad17fcea5b0eaa07762e', 'public_key_id': 'bVwUZdVZWc3USbpVhLQa8RAQbevJDc5dSS', 'tags': ['private', 'testing'], 'thumbnail': {'url': 'https://spee.ch/8/7040d758104f84d1.png'}, 'title': 'Batch Upload Testing'}, 'value_type': 'channel'}\n",
      "timestamp:\tNone\n",
      "txid:\t715fc71486c7fb8d5d40b30c57cd643297244cde36676e62a6037ab2ac92203e\n",
      "type:\tclaim\n",
      "value:\t{'description': 'This is a sample video', 'languages': ['zh-Hant'], 'license': 'Public Domain', 'source': {'hash': '1b402bae9276bcc6db42e2386edcd83f7d7020c60d2989d8fefb9b215e5bd8b2532e2ed6f83978720d0f84a8301c6742', 'media_type': 'video/webm', 'name': 'sample_vid_fixed.webm', 'sd_hash': '741229b8fdf5890197ffcd4fdf044a82b21e0b2478c629d8982637389ecb997d907ec15b59765f1df900886e623a47db', 'size': '900794'}, 'stream_type': 'video', 'tags': ['sample', 'video'], 'thumbnail': {'url': 'https://na.cx/i/cAkMKgG.jpg'}, 'title': 'Sample Video', 'video': {'duration': 31, 'height': 270, 'width': 480}}\n",
      "value_type:\tstream\n"
     ]
    }
   ],
   "source": [
    "for key, val in req_result_outputs.items():\n",
    "    print(f'{key}:\\t{val}')"
   ]
  },
  {
   "cell_type": "markdown",
   "id": "c2f57ee9",
   "metadata": {},
   "source": [
    "## resolve\n",
    "\n",
    "#### Get the claim that a URL refers to"
   ]
  },
  {
   "cell_type": "code",
   "execution_count": 15,
   "id": "03ec5152",
   "metadata": {},
   "outputs": [],
   "source": [
    "# Not important for now"
   ]
  },
  {
   "cell_type": "markdown",
   "id": "20367801",
   "metadata": {},
   "source": [
    "## routing_table_get\n",
    "\n",
    "#### Get DHT routing information"
   ]
  },
  {
   "cell_type": "code",
   "execution_count": 16,
   "id": "4a1fef16",
   "metadata": {},
   "outputs": [],
   "source": [
    "# Not important for now"
   ]
  },
  {
   "cell_type": "markdown",
   "id": "c2692070",
   "metadata": {},
   "source": [
    "## status\n",
    "\n",
    "#### Get daemon status"
   ]
  },
  {
   "cell_type": "code",
   "execution_count": 17,
   "id": "43a03071",
   "metadata": {},
   "outputs": [],
   "source": [
    "req_json = requests.post(\n",
    "    port,\n",
    "    json={\n",
    "        \"method\": \"status\",\n",
    "        \"params\": {},\n",
    "    }\n",
    ").json()"
   ]
  },
  {
   "cell_type": "code",
   "execution_count": 18,
   "id": "5d0c67ae",
   "metadata": {},
   "outputs": [],
   "source": [
    "req_result = req_json['result']"
   ]
  },
  {
   "cell_type": "code",
   "execution_count": 19,
   "id": "95a012d9",
   "metadata": {
    "scrolled": true
   },
   "outputs": [
    {
     "name": "stdout",
     "output_type": "stream",
     "text": [
      "background_downloader:\t{'available_free_space_mb': 0, 'ongoing_download': False, 'running': True}\n",
      "blob_manager:\t{'connections': {'incoming_bps': {}, 'max_incoming_mbs': 12.33162, 'max_outgoing_mbs': 0.005894, 'outgoing_bps': {}, 'total_incoming_mbs': 0.0, 'total_outgoing_mbs': 0.0, 'total_received': 25016885, 'total_sent': 7965}, 'finished_blobs': 400}\n",
      "dht:\t{'node_id': 'aa2754f3c6b586e606e48aee7a564f9728f3dc6f938571705803082e27a9e8a82e11259b876a3d6d3596e5d289f9168a', 'peers_in_routing_table': 44}\n",
      "disk_space:\t{'content_blobs_storage_used_mb': 3858, 'published_blobs_storage_used_mb': 0, 'running': True, 'seed_blobs_storage_used_mb': 0, 'total_used_mb': 3858}\n",
      "ffmpeg_status:\t{'analyze_audio_volume': True, 'available': True, 'which': '/opt/homebrew/Cellar/ffmpeg/5.0.1/bin/ffmpeg'}\n",
      "file_manager:\t{'managed_files': 18}\n",
      "hash_announcer:\t{'announce_queue_size': 0}\n",
      "installation_id:\t7EsadCuuV54Nvvt8LvBJE9dRAa15zA7i5vmSmQcQbvouopCTCJdLNvUB5isXtnd2oh\n",
      "is_running:\tTrue\n",
      "skipped_components:\t[]\n",
      "startup_status:\t{'background_downloader': True, 'blob_manager': True, 'database': True, 'dht': True, 'disk_space': True, 'exchange_rate_manager': True, 'file_manager': True, 'hash_announcer': True, 'libtorrent_component': True, 'peer_protocol_server': True, 'upnp': True, 'wallet': True, 'wallet_server_payments': True}\n",
      "upnp:\t{'aioupnp_version': '0.0.18', 'dht_redirect_set': False, 'external_ip': '185.213.154.166', 'gateway': 'No gateway found', 'peer_redirect_set': False, 'redirects': {}}\n",
      "wallet:\t{'available_servers': 1, 'best_blockhash': 'ccc111b30826d70d2cc4ecf2a07f07485a712fd055126f211ede0d6eab7ece86', 'blocks': 1155925, 'blocks_behind': 0, 'connected': 'spv18.lbry.com:50001', 'connected_features': {'daily_fee': 0.0, 'description': '', 'donation_address': '', 'genesis_hash': '9c89283ba0f3227f6c03b70216b9f665f0118d5e0fa729cedf4fb34d6a34f463', 'hash_function': 'sha256', 'hosts': {}, 'payment_address': '', 'protocol_max': '0.199.0', 'protocol_min': '0.54.0', 'pruning': None, 'server_version': '0.107.0', 'trending_algorithm': 'fast_ar'}, 'headers_synchronization_progress': 100, 'known_servers': 6, 'servers': [{'availability': True, 'host': 'spv18.lbry.com', 'latency': 0.10253983299980973, 'port': 50001}]}\n",
      "wallet_server_payments:\t{'max_fee': '0.0', 'running': False}\n"
     ]
    }
   ],
   "source": [
    "for key, val in req_result.items():\n",
    "    print(f'{key}:\\t{val}')"
   ]
  },
  {
   "cell_type": "markdown",
   "id": "11e4c91b",
   "metadata": {},
   "source": [
    "## stop\n",
    "#### Stop lbrynet API server"
   ]
  },
  {
   "cell_type": "code",
   "execution_count": 20,
   "id": "8dd795c3",
   "metadata": {},
   "outputs": [],
   "source": [
    "# Not important for now"
   ]
  },
  {
   "cell_type": "markdown",
   "id": "235c4301",
   "metadata": {},
   "source": [
    "## version\n",
    "\n",
    "#### Get lbrynet API server version information"
   ]
  },
  {
   "cell_type": "code",
   "execution_count": 21,
   "id": "c435c04d",
   "metadata": {},
   "outputs": [],
   "source": [
    "req_json = requests.post(\n",
    "    port,\n",
    "    json={\n",
    "        \"method\": \"version\",\n",
    "        \"params\": {},\n",
    "    }\n",
    ").json()"
   ]
  },
  {
   "cell_type": "code",
   "execution_count": 22,
   "id": "7a5f8e11",
   "metadata": {},
   "outputs": [],
   "source": [
    "req_result = req_json['result']"
   ]
  },
  {
   "cell_type": "code",
   "execution_count": 23,
   "id": "6b1cbffd",
   "metadata": {},
   "outputs": [
    {
     "name": "stdout",
     "output_type": "stream",
     "text": [
      "build:\trelease\n",
      "lbrynet_version:\t0.107.1\n",
      "os_release:\t21.4.0\n",
      "os_system:\tDarwin\n",
      "platform:\tDarwin-21.4.0-x86_64-i386-64bit\n",
      "processor:\ti386\n",
      "python_version:\t3.7.12\n",
      "version:\t0.107.1\n"
     ]
    }
   ],
   "source": [
    "for key, val in req_result.items():\n",
    "    print(f'{key}:\\t{val}')"
   ]
  },
  {
   "cell_type": "markdown",
   "id": "6474e8c9",
   "metadata": {},
   "source": [
    " "
   ]
  }
 ],
 "metadata": {
  "kernelspec": {
   "display_name": "Python 3 (ipykernel)",
   "language": "python",
   "name": "python3"
  },
  "language_info": {
   "codemirror_mode": {
    "name": "ipython",
    "version": 3
   },
   "file_extension": ".py",
   "mimetype": "text/x-python",
   "name": "python",
   "nbconvert_exporter": "python",
   "pygments_lexer": "ipython3",
   "version": "3.10.4"
  }
 },
 "nbformat": 4,
 "nbformat_minor": 5
}
