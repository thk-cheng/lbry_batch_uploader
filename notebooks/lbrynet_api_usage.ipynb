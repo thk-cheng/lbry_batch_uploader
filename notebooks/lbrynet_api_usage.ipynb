{
 "cells": [
  {
   "cell_type": "markdown",
   "id": "1ba0ca6a",
   "metadata": {},
   "source": [
    "# lbrynet API - Example Usage"
   ]
  },
  {
   "cell_type": "markdown",
   "id": "31c475a8",
   "metadata": {},
   "source": [
    "## Imports and Functions Definitions"
   ]
  },
  {
   "cell_type": "code",
   "execution_count": 1,
   "id": "a73b02ef",
   "metadata": {},
   "outputs": [],
   "source": [
    "import requests\n",
    "from requests import ConnectionError"
   ]
  },
  {
   "cell_type": "code",
   "execution_count": 2,
   "id": "e642c804",
   "metadata": {},
   "outputs": [],
   "source": [
    "# Set the port that lbrynet listens to\n",
    "port = \"http://localhost:5279\"\n",
    "# port = \"http://localhost:9999\""
   ]
  },
  {
   "cell_type": "code",
   "execution_count": 3,
   "id": "660c7368",
   "metadata": {},
   "outputs": [],
   "source": [
    "def get_req_json(port, json=None) -> dict:\n",
    "    \"\"\"Perform post request to lbrynet, get back the returned json.\"\"\"\n",
    "    try:\n",
    "        if json is None:\n",
    "            json = {}\n",
    "        return requests.post(port, json=json).json()\n",
    "    except ConnectionError as e:\n",
    "        raise e from None"
   ]
  },
  {
   "cell_type": "code",
   "execution_count": 4,
   "id": "ce1afa18",
   "metadata": {},
   "outputs": [],
   "source": [
    "def get_req_result(req_json) -> dict:\n",
    "    \"\"\"Try to get 'result' from json, except error occured in the post request.\"\"\"\n",
    "    try:\n",
    "        return req_json[\"result\"]\n",
    "    except KeyError as e:\n",
    "        req_err = req_json[\"error\"]\n",
    "        if req_err[\"data\"][\"name\"] == \"ValueError\":\n",
    "            raise ValueError(req_err[\"message\"]) from None\n",
    "        else:\n",
    "            raise e from None"
   ]
  },
  {
   "cell_type": "markdown",
   "id": "664cd7e8",
   "metadata": {},
   "source": [
    "## version\n",
    "#### Get lbrynet version"
   ]
  },
  {
   "cell_type": "code",
   "execution_count": 5,
   "id": "bba0d7c3",
   "metadata": {},
   "outputs": [
    {
     "name": "stdout",
     "output_type": "stream",
     "text": [
      "jsonrpc:\t2.0\n",
      "result:\t{'build': 'release', 'lbrynet_version': '0.107.1', 'os_release': '21.4.0', 'os_system': 'Darwin', 'platform': 'Darwin-21.4.0-x86_64-i386-64bit', 'processor': 'i386', 'python_version': '3.7.12', 'version': '0.107.1'}\n",
      "\n",
      "build:\trelease\n",
      "lbrynet_version:\t0.107.1\n",
      "os_release:\t21.4.0\n",
      "os_system:\tDarwin\n",
      "platform:\tDarwin-21.4.0-x86_64-i386-64bit\n",
      "processor:\ti386\n",
      "python_version:\t3.7.12\n",
      "version:\t0.107.1\n"
     ]
    }
   ],
   "source": [
    "req_json = get_req_json(port, json={\"method\": \"version\"})\n",
    "for key, val in req_json.items():\n",
    "    print(f'{key}:\\t{val}')\n",
    "print()\n",
    "\n",
    "req_result = get_req_result(req_json)\n",
    "for key, val in req_result.items():\n",
    "    print(f'{key}:\\t{val}')"
   ]
  },
  {
   "cell_type": "markdown",
   "id": "74afd55e",
   "metadata": {},
   "source": [
    "## ffmpeg_find\n",
    "#### Get ffmpeg installation information"
   ]
  },
  {
   "cell_type": "code",
   "execution_count": null,
   "id": "1986c384",
   "metadata": {},
   "outputs": [],
   "source": [
    "# Contain sensitive user-specific information\n",
    "req_json = get_req_json(port, json={\"method\": \"ffmpeg_find\"})\n",
    "req_result = get_req_result(req_json)\n",
    "for key, val in req_result.items():\n",
    "    print(f'{key}:\\t{val}')"
   ]
  },
  {
   "cell_type": "markdown",
   "id": "c2692070",
   "metadata": {},
   "source": [
    "## status\n",
    "\n",
    "#### Get daemon status"
   ]
  },
  {
   "cell_type": "code",
   "execution_count": null,
   "id": "1d46a3d1",
   "metadata": {},
   "outputs": [],
   "source": [
    "# Contain sensitive user-specific information\n",
    "req_json = get_req_json(port, json={\"method\": \"status\"})\n",
    "req_result = get_req_result(req_json)\n",
    "for key, val in req_result.items():\n",
    "    print(f'{key}:\\t{val}')"
   ]
  },
  {
   "cell_type": "markdown",
   "id": "4e07bf49",
   "metadata": {},
   "source": [
    "## get\n",
    "\n",
    "#### Download stream from a LBRY name"
   ]
  },
  {
   "cell_type": "code",
   "execution_count": 6,
   "id": "c7353cad",
   "metadata": {},
   "outputs": [],
   "source": [
    "json_get = {\n",
    "    \"method\": \"get\",\n",
    "    \"params\": {\n",
    "        \"uri\": \"lbry://sample-small#c\",\n",
    "        # \"file_name\": \"(str) specified name for the downloaded file, overrides the stream file name\",\n",
    "        # \"download_directory\": \"(str) full path to the directory to download into\",\n",
    "        # \"timeout\": \"(int) download timeout in number of seconds\",\n",
    "        # \"save_file\": \"(bool) save the file to the downloads directory\",\n",
    "        # \"wallet_id\": \"(str) wallet to check for claim purchase receipts\",\n",
    "    }\n",
    "}"
   ]
  },
  {
   "cell_type": "code",
   "execution_count": 7,
   "id": "db6499b4",
   "metadata": {},
   "outputs": [
    {
     "name": "stdout",
     "output_type": "stream",
     "text": [
      "added_on:\tNone\n",
      "blobs_completed:\t1\n",
      "blobs_in_stream:\t1\n",
      "blobs_remaining:\t0\n",
      "channel_claim_id:\t87a5389f61b25210e8d44ba480123dc287c1c5df\n",
      "channel_name:\t@batch-upload-testing\n",
      "claim_id:\tc1b9c9c863f1d486321a575a41b409d669696565\n",
      "claim_name:\tsample-small\n",
      "completed:\tTrue\n",
      "confirmations:\t2\n",
      "content_fee:\tNone\n",
      "download_directory:\t/Users/kennethcheng/Downloads/lbry-upload/sample\n",
      "download_path:\t/Users/kennethcheng/Downloads/lbry-upload/sample/sample-small.mp4\n",
      "file_name:\tsample-small.mp4\n",
      "height:\t1162529\n",
      "is_fully_reflected:\tTrue\n",
      "key:\t071c5335c630d20b3955b1c2bc5209be\n",
      "metadata:\t{'languages': ['en'], 'license': 'Public Domain', 'source': {'hash': '85adee653d3e65e8600fd4fa267907260163a1c03043442ace2129cff4f114b2741fc6730cd22dd74c4579773c5c6e3c', 'media_type': 'video/mp4', 'name': 'sample-small.mp4', 'sd_hash': 'b7f976dcdd4e5b2ecb6b8e5807eeabe48998af588c581341bcbf404da99a308a0e265af647456d7a14508c312098ce58', 'size': '543879'}, 'stream_type': 'video', 'tags': ['sample', 'testing'], 'title': 'sample-small', 'video': {'duration': 30, 'height': 240, 'width': 320}}\n",
      "mime_type:\tvideo/mp4\n",
      "nout:\t0\n",
      "outpoint:\t20a878a2a0ccd1f6dea20dee1701808cdfc431af08fa4223bef402ade59ce07e:0\n",
      "points_paid:\t0.0\n",
      "protobuf:\t01dfc5c187c23d1280a44bd4e81052b2619f38a587ba17ebf3ce72adfbbe8d4fa4840cfd953ca543b51921869778e3ce6dc234f8d34664b45599ac3750896e2c133f6518ad9cd97a55d5b5711b09f5a2d8adeb17ff0aa1010a85010a3085adee653d3e65e8600fd4fa267907260163a1c03043442ace2129cff4f114b2741fc6730cd22dd74c4579773c5c6e3c121073616d706c652d736d616c6c2e6d7034188799212209766964656f2f6d70343230b7f976dcdd4e5b2ecb6b8e5807eeabe48998af588c581341bcbf404da99a308a0e265af647456d7a14508c312098ce581a0d5075626c696320446f6d61696e5a0808c00210f001181e420c73616d706c652d736d616c6c5a0673616d706c655a0774657374696e6762020801\n",
      "purchase_receipt:\tNone\n",
      "reflector_progress:\t0\n",
      "sd_hash:\tb7f976dcdd4e5b2ecb6b8e5807eeabe48998af588c581341bcbf404da99a308a0e265af647456d7a14508c312098ce58\n",
      "status:\trunning\n",
      "stopped:\tFalse\n",
      "stream_hash:\t6032191d45cf87673afa9f5e3a08e626edb161ceffcd6ec1b1f11ab83b4b0b4a41393b2f24f560fd24114fea417ef381\n",
      "stream_name:\tsample-small.mp4\n",
      "streaming_url:\thttp://localhost:5280/stream/b7f976dcdd4e5b2ecb6b8e5807eeabe48998af588c581341bcbf404da99a308a0e265af647456d7a14508c312098ce58\n",
      "suggested_file_name:\tsample-small.mp4\n",
      "timestamp:\t1653010649\n",
      "total_bytes:\t543888\n",
      "total_bytes_lower_bound:\t543872\n",
      "txid:\t20a878a2a0ccd1f6dea20dee1701808cdfc431af08fa4223bef402ade59ce07e\n",
      "uploading_to_reflector:\tFalse\n",
      "written_bytes:\t543879\n"
     ]
    }
   ],
   "source": [
    "req_json = get_req_json(port, json=json_get)\n",
    "# for key, val in req_json.items():\n",
    "#     print(f'{key}:\\t{val}')\n",
    "# print()\n",
    "\n",
    "req_result = get_req_result(req_json)\n",
    "for key, val in req_result.items():\n",
    "    print(f'{key}:\\t{val}')"
   ]
  },
  {
   "cell_type": "markdown",
   "id": "763d765e",
   "metadata": {},
   "source": [
    "## publish\n",
    "#### Create or replace a stream claim at a given name (use 'stream create/update' for more control)"
   ]
  },
  {
   "cell_type": "code",
   "execution_count": null,
   "id": "a2cd3b24",
   "metadata": {},
   "outputs": [],
   "source": [
    "json_publish = {\n",
    "    \"method\": \"publish\",\n",
    "    \"params\": {\n",
    "        \"name\": \"testing-video\",\n",
    "        \"bid\": \"0.0001\",\n",
    "        \"file_path\": \"path/to/file\",\n",
    "        # \"file_name\": \"name of file to be associated with stream\",\n",
    "        # \"file_hash\": \"(str) hash of file to be associated with stream\",\n",
    "        # \"validate_file\": \"\"\"(bool) validate that the video container and \\\n",
    "        #                     encodings match common web browser support or \\\n",
    "        #                     that optimization succeeds if specified. \\\n",
    "        #                     FFmpeg is required\"\"\",\n",
    "        \"optimize_file\": True,\n",
    "        # \"fee_currency\": \"(str) specify fee currency\",\n",
    "        # \"fee_amount\": \"(float) content download fee\",\n",
    "        # \"fee_address\": \"\"\"(str) address where to send fee payments, \\\n",
    "        #                     will use value from --claim_address if not provided\"\"\",\n",
    "        \"title\": \"Testing Video\",\n",
    "        \"description\": \"This is a testing video\",\n",
    "        # \"author\": \"(str) author of the publication\",\n",
    "        \"tags\": ['testing', 'video', 'from-python'],\n",
    "        \"languages\": ['en'],\n",
    "        # \"locations\": [{'country': 'US', 'state': 'NH'}],\n",
    "        \"license\": \"Public Domain\",\n",
    "        # \"license_url\": \"(str) publication license url\",\n",
    "        \"thumbnail_url\": \"https://xyz123.jpg\",\n",
    "        # \"release_time\": \"(int) original public release of content, seconds since UNIX epoch\",\n",
    "        # \"channel_id\": \"87a5389f61b25210e8d44ba480123dc287c1c5df\",\n",
    "        \"channel_name\": \"@testing_channel_123456789\",\n",
    "        # \"channel_account_id\": \"\"\"(str) one or more account ids for accounts \\\n",
    "        #                             to look in for channel certificates, \\\n",
    "        #                             defaults to all accounts\"\"\",\n",
    "        # \"account_id\": \"(str) account to use for holding the transaction\",\n",
    "        # \"wallet_id\": \"(str) restrict operation to specific wallet\",\n",
    "        # \"funding_account_ids\": [\"(list) ids of accounts to fund this transaction\"],\n",
    "        # \"claim_address\": \"\"\"(str) address where the claim is sent to, \\\n",
    "        #                     if not specified it will be determined \\\n",
    "        #                     automatically from the account\"\"\",\n",
    "        \"preview\": False,\n",
    "        \"blocking\": False,\n",
    "    }\n",
    "}"
   ]
  },
  {
   "cell_type": "code",
   "execution_count": null,
   "id": "e012c3d2",
   "metadata": {},
   "outputs": [],
   "source": [
    "req_json = get_req_json(port, json=json_publish)\n",
    "req_result = get_req_result(req_json)"
   ]
  },
  {
   "cell_type": "code",
   "execution_count": null,
   "id": "d175ecca",
   "metadata": {},
   "outputs": [],
   "source": [
    "req_result_inputs = req_result['inputs'][0]\n",
    "for key, val in req_result_inputs.items():\n",
    "    print(f'{key}:\\t{val}')"
   ]
  },
  {
   "cell_type": "code",
   "execution_count": null,
   "id": "1cced97a",
   "metadata": {},
   "outputs": [],
   "source": [
    "# Contain sensitive user-specific information\n",
    "req_result_outputs = req_result['outputs'][0]\n",
    "for key, val in req_result_outputs.items():\n",
    "    print(f'{key}:\\t{val}')"
   ]
  }
 ],
 "metadata": {
  "kernelspec": {
   "display_name": "Python 3 (ipykernel)",
   "language": "python",
   "name": "python3"
  },
  "language_info": {
   "codemirror_mode": {
    "name": "ipython",
    "version": 3
   },
   "file_extension": ".py",
   "mimetype": "text/x-python",
   "name": "python",
   "nbconvert_exporter": "python",
   "pygments_lexer": "ipython3",
   "version": "3.10.4"
  }
 },
 "nbformat": 4,
 "nbformat_minor": 5
}
