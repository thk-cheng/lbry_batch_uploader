{
 "cells": [
  {
   "cell_type": "markdown",
   "id": "1ba0ca6a",
   "metadata": {},
   "source": [
    "# lbrynet API - Example Usage"
   ]
  },
  {
   "cell_type": "markdown",
   "id": "31c475a8",
   "metadata": {},
   "source": [
    "## Imports and Functions Definitions"
   ]
  },
  {
   "cell_type": "code",
   "execution_count": 1,
   "id": "a73b02ef",
   "metadata": {},
   "outputs": [],
   "source": [
    "import requests\n",
    "from requests import ConnectionError"
   ]
  },
  {
   "cell_type": "code",
   "execution_count": 2,
   "id": "e642c804",
   "metadata": {},
   "outputs": [],
   "source": [
    "# Set the port that lbrynet listens to\n",
    "port = \"http://localhost:5279\"\n",
    "# port = \"http://localhost:9999\""
   ]
  },
  {
   "cell_type": "code",
   "execution_count": 3,
   "id": "660c7368",
   "metadata": {},
   "outputs": [],
   "source": [
    "def get_req_json(port, json=None) -> dict:\n",
    "    \"\"\"Perform post request to lbrynet, get back the returned json.\"\"\"\n",
    "    try:\n",
    "        if json is None:\n",
    "            json = {}\n",
    "        return requests.post(port, json=json).json()\n",
    "    except ConnectionError as e:\n",
    "        raise e from None"
   ]
  },
  {
   "cell_type": "code",
   "execution_count": 4,
   "id": "ce1afa18",
   "metadata": {},
   "outputs": [],
   "source": [
    "def get_req_result(req_json) -> dict:\n",
    "    \"\"\"Try to get 'result' from json, except error occured in the post request.\"\"\"\n",
    "    try:\n",
    "        return req_json[\"result\"]\n",
    "    except KeyError as e:\n",
    "        req_err = req_json[\"error\"]\n",
    "        if req_err[\"data\"][\"name\"] == \"ValueError\":\n",
    "            raise ValueError(req_err[\"message\"]) from None\n",
    "        else:\n",
    "            raise e from None"
   ]
  },
  {
   "cell_type": "markdown",
   "id": "664cd7e8",
   "metadata": {},
   "source": [
    "## version\n",
    "#### Get lbrynet version"
   ]
  },
  {
   "cell_type": "code",
   "execution_count": 5,
   "id": "bba0d7c3",
   "metadata": {},
   "outputs": [
    {
     "name": "stdout",
     "output_type": "stream",
     "text": [
      "jsonrpc:\t2.0\n",
      "result:\t{'build': 'release', 'lbrynet_version': '0.107.1', 'os_release': '21.4.0', 'os_system': 'Darwin', 'platform': 'Darwin-21.4.0-x86_64-i386-64bit', 'processor': 'i386', 'python_version': '3.7.12', 'version': '0.107.1'}\n",
      "\n",
      "build:\trelease\n",
      "lbrynet_version:\t0.107.1\n",
      "os_release:\t21.4.0\n",
      "os_system:\tDarwin\n",
      "platform:\tDarwin-21.4.0-x86_64-i386-64bit\n",
      "processor:\ti386\n",
      "python_version:\t3.7.12\n",
      "version:\t0.107.1\n"
     ]
    }
   ],
   "source": [
    "req_json = get_req_json(port, json={\"method\": \"version\"})\n",
    "for key, val in req_json.items():\n",
    "    print(f'{key}:\\t{val}')\n",
    "print()\n",
    "\n",
    "req_result = get_req_result(req_json)\n",
    "for key, val in req_result.items():\n",
    "    print(f'{key}:\\t{val}')"
   ]
  },
  {
   "cell_type": "markdown",
   "id": "74afd55e",
   "metadata": {},
   "source": [
    "## ffmpeg_find\n",
    "#### Get ffmpeg installation information"
   ]
  },
  {
   "cell_type": "code",
   "execution_count": null,
   "id": "1986c384",
   "metadata": {},
   "outputs": [],
   "source": [
    "# Contain sensitive user-specific information\n",
    "req_json = get_req_json(port, json={\"method\": \"ffmpeg_find\"})\n",
    "req_result = get_req_result(req_json)\n",
    "for key, val in req_result.items():\n",
    "    print(f'{key}:\\t{val}')"
   ]
  },
  {
   "cell_type": "markdown",
   "id": "c2692070",
   "metadata": {},
   "source": [
    "## status\n",
    "\n",
    "#### Get daemon status"
   ]
  },
  {
   "cell_type": "code",
   "execution_count": null,
   "id": "1d46a3d1",
   "metadata": {},
   "outputs": [],
   "source": [
    "# Contain sensitive user-specific information\n",
    "req_json = get_req_json(port, json={\"method\": \"status\"})\n",
    "req_result = get_req_result(req_json)\n",
    "for key, val in req_result.items():\n",
    "    print(f'{key}:\\t{val}')"
   ]
  },
  {
   "cell_type": "markdown",
   "id": "4e07bf49",
   "metadata": {},
   "source": [
    "## get\n",
    "\n",
    "#### Download stream from a LBRY name"
   ]
  },
  {
   "cell_type": "code",
   "execution_count": 6,
   "id": "c7353cad",
   "metadata": {},
   "outputs": [],
   "source": [
    "json_get = {\n",
    "    \"method\": \"get\",\n",
    "    \"params\": {\n",
    "        \"uri\": \"lbry://@AlphaNerd#8/firefox-100-new-features#5\",\n",
    "        # \"file_name\": \"(str) specified name for the downloaded file, overrides the stream file name\",\n",
    "        # \"download_directory\": \"(str) full path to the directory to download into\",\n",
    "        # \"timeout\": \"(int) download timeout in number of seconds\",\n",
    "        # \"save_file\": \"(bool) save the file to the downloads directory\",\n",
    "        # \"wallet_id\": \"(str) wallet to check for claim purchase receipts\",\n",
    "    }\n",
    "}"
   ]
  },
  {
   "cell_type": "code",
   "execution_count": 7,
   "id": "db6499b4",
   "metadata": {},
   "outputs": [
    {
     "name": "stdout",
     "output_type": "stream",
     "text": [
      "jsonrpc:\t2.0\n",
      "result:\t{'added_on': 1651943352, 'blobs_completed': 5, 'blobs_in_stream': 22, 'blobs_remaining': 17, 'channel_claim_id': '8d497e7e96c789364c56aea7a35827d2dc1eea65', 'channel_name': '@AlphaNerd', 'claim_id': '5baa43370cd56e371b1402e49427261dd3431073', 'claim_name': 'firefox-100-new-features', 'completed': False, 'confirmations': 6420, 'content_fee': None, 'download_directory': None, 'download_path': None, 'file_name': None, 'height': 1154409, 'is_fully_reflected': True, 'key': 'bf2f04bafdb89463ba0487ec7b25aa52', 'metadata': {'description': 'Follow me on Odysee\\nhttps://odysee.com/@AlphaNerd:8\\n\\n₿💰💵💲Help Support the Channel by Donating Crypto💲💵💰₿\\n\\nMonero\\n45F2bNHVcRzXVBsvZ5giyvKGAgm6LFhMsjUUVPTEtdgJJ5SNyxzSNUmFSBR5qCCWLpjiUjYMkmZoX9b3cChNjvxR7kvh436\\n\\nBitcoin\\n3MMKHXPQrGHEsmdHaAGD59FWhKFGeUsAxV\\n\\nEthereum\\n0xeA4DA3F9BAb091Eb86921CA6E41712438f4E5079\\n\\nLitecoin\\nMBfrxLJMuw26hbVi2MjCVDFkkExz8rYvUF\\n\\nDash\\nXh9PXPEy5RoLJgFDGYCDjrbXdjshMaYerz\\n\\nZcash\\nt1aWtU5SBpxuUWBSwDKy4gTkT2T1ZwtFvrr\\n\\nChainlink\\n0x0f7f21D267d2C9dbae17fd8c20012eFEA3678F14\\n\\nBitcoin Cash\\nqz2st00dtu9e79zrq5wshsgaxsjw299n7c69th8ryp\\n\\nEtherum Classic\\n0xeA641e59913960f578ad39A6B4d02051A5556BfC\\n\\nUSD Coin\\n0x0B045f743A693b225630862a3464B52fefE79FdB\\n\\nSubscribe to my YouTube channel http://goo.gl/9U10Wz\\nand be sure to click that notification bell so you know when new videos are released.\\n...\\nhttps://www.youtube.com/watch?v=rlb1__4-rns', 'languages': ['en'], 'license': 'Copyrighted (contact publisher)', 'release_time': '1651704591', 'source': {'hash': '318168cf40543e009d262b6711d17e6d824287ce8ff0d72a62671e7b907664b48f3cf67d1913199908c3a2744b742fd3', 'media_type': 'video/mp4', 'name': 'firefox-100-new-features.mp4', 'sd_hash': '2bdfa08d888d73333f087e5cf0d918a50444c79e39019e72042879660ff4c65d8e926ec5603c48a4edf2c73c683c02ae', 'size': '46053965'}, 'stream_type': 'video', 'tags': ['100', 'firefox', 'firefox 100', 'firefox update', 'firefox version 100', 'firefox100', 'mental', 'mental outlaw', 'mozilla firefox', 'outlaw'], 'thumbnail': {'url': 'https://thumbnails.lbry.com/rlb1__4-rns'}, 'title': 'Firefox 100 New Features', 'video': {'duration': 433, 'height': 1080, 'width': 1920}}, 'mime_type': 'video/mp4', 'nout': 0, 'outpoint': '15a4760da5b620eec53f8bc7c42be245a6c5ad6bcd1c4b4f30aa8a52027c7539:0', 'points_paid': 0.0, 'protobuf': '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', 'purchase_receipt': None, 'reflector_progress': 0, 'sd_hash': '2bdfa08d888d73333f087e5cf0d918a50444c79e39019e72042879660ff4c65d8e926ec5603c48a4edf2c73c683c02ae', 'status': 'running', 'stopped': False, 'stream_hash': '8760553c6503f6cf1dc4936c50a1bd0ffcd451806a9ce01c1ee346a4c4bdfa00ad2754a23d95d83be182ee9f45de3935', 'stream_name': 'firefox-100-new-features.mp4', 'streaming_url': 'http://localhost:5280/stream/2bdfa08d888d73333f087e5cf0d918a50444c79e39019e72042879660ff4c65d8e926ec5603c48a4edf2c73c683c02ae', 'suggested_file_name': 'firefox-100-new-features.mp4', 'timestamp': 1651705560, 'total_bytes': 46053979, 'total_bytes_lower_bound': 46053963, 'txid': '15a4760da5b620eec53f8bc7c42be245a6c5ad6bcd1c4b4f30aa8a52027c7539', 'uploading_to_reflector': False, 'written_bytes': 0}\n",
      "\n",
      "added_on:\t1651943352\n",
      "blobs_completed:\t5\n",
      "blobs_in_stream:\t22\n",
      "blobs_remaining:\t17\n",
      "channel_claim_id:\t8d497e7e96c789364c56aea7a35827d2dc1eea65\n",
      "channel_name:\t@AlphaNerd\n",
      "claim_id:\t5baa43370cd56e371b1402e49427261dd3431073\n",
      "claim_name:\tfirefox-100-new-features\n",
      "completed:\tFalse\n",
      "confirmations:\t6420\n",
      "content_fee:\tNone\n",
      "download_directory:\tNone\n",
      "download_path:\tNone\n",
      "file_name:\tNone\n",
      "height:\t1154409\n",
      "is_fully_reflected:\tTrue\n",
      "key:\tbf2f04bafdb89463ba0487ec7b25aa52\n",
      "metadata:\t{'description': 'Follow me on Odysee\\nhttps://odysee.com/@AlphaNerd:8\\n\\n₿💰💵💲Help Support the Channel by Donating Crypto💲💵💰₿\\n\\nMonero\\n45F2bNHVcRzXVBsvZ5giyvKGAgm6LFhMsjUUVPTEtdgJJ5SNyxzSNUmFSBR5qCCWLpjiUjYMkmZoX9b3cChNjvxR7kvh436\\n\\nBitcoin\\n3MMKHXPQrGHEsmdHaAGD59FWhKFGeUsAxV\\n\\nEthereum\\n0xeA4DA3F9BAb091Eb86921CA6E41712438f4E5079\\n\\nLitecoin\\nMBfrxLJMuw26hbVi2MjCVDFkkExz8rYvUF\\n\\nDash\\nXh9PXPEy5RoLJgFDGYCDjrbXdjshMaYerz\\n\\nZcash\\nt1aWtU5SBpxuUWBSwDKy4gTkT2T1ZwtFvrr\\n\\nChainlink\\n0x0f7f21D267d2C9dbae17fd8c20012eFEA3678F14\\n\\nBitcoin Cash\\nqz2st00dtu9e79zrq5wshsgaxsjw299n7c69th8ryp\\n\\nEtherum Classic\\n0xeA641e59913960f578ad39A6B4d02051A5556BfC\\n\\nUSD Coin\\n0x0B045f743A693b225630862a3464B52fefE79FdB\\n\\nSubscribe to my YouTube channel http://goo.gl/9U10Wz\\nand be sure to click that notification bell so you know when new videos are released.\\n...\\nhttps://www.youtube.com/watch?v=rlb1__4-rns', 'languages': ['en'], 'license': 'Copyrighted (contact publisher)', 'release_time': '1651704591', 'source': {'hash': '318168cf40543e009d262b6711d17e6d824287ce8ff0d72a62671e7b907664b48f3cf67d1913199908c3a2744b742fd3', 'media_type': 'video/mp4', 'name': 'firefox-100-new-features.mp4', 'sd_hash': '2bdfa08d888d73333f087e5cf0d918a50444c79e39019e72042879660ff4c65d8e926ec5603c48a4edf2c73c683c02ae', 'size': '46053965'}, 'stream_type': 'video', 'tags': ['100', 'firefox', 'firefox 100', 'firefox update', 'firefox version 100', 'firefox100', 'mental', 'mental outlaw', 'mozilla firefox', 'outlaw'], 'thumbnail': {'url': 'https://thumbnails.lbry.com/rlb1__4-rns'}, 'title': 'Firefox 100 New Features', 'video': {'duration': 433, 'height': 1080, 'width': 1920}}\n",
      "mime_type:\tvideo/mp4\n",
      "nout:\t0\n",
      "outpoint:\t15a4760da5b620eec53f8bc7c42be245a6c5ad6bcd1c4b4f30aa8a52027c7539:0\n",
      "points_paid:\t0.0\n",
      "protobuf:\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\n",
      "purchase_receipt:\tNone\n",
      "reflector_progress:\t0\n",
      "sd_hash:\t2bdfa08d888d73333f087e5cf0d918a50444c79e39019e72042879660ff4c65d8e926ec5603c48a4edf2c73c683c02ae\n",
      "status:\trunning\n",
      "stopped:\tFalse\n",
      "stream_hash:\t8760553c6503f6cf1dc4936c50a1bd0ffcd451806a9ce01c1ee346a4c4bdfa00ad2754a23d95d83be182ee9f45de3935\n",
      "stream_name:\tfirefox-100-new-features.mp4\n",
      "streaming_url:\thttp://localhost:5280/stream/2bdfa08d888d73333f087e5cf0d918a50444c79e39019e72042879660ff4c65d8e926ec5603c48a4edf2c73c683c02ae\n",
      "suggested_file_name:\tfirefox-100-new-features.mp4\n",
      "timestamp:\t1651705560\n",
      "total_bytes:\t46053979\n",
      "total_bytes_lower_bound:\t46053963\n",
      "txid:\t15a4760da5b620eec53f8bc7c42be245a6c5ad6bcd1c4b4f30aa8a52027c7539\n",
      "uploading_to_reflector:\tFalse\n",
      "written_bytes:\t0\n"
     ]
    }
   ],
   "source": [
    "req_json = get_req_json(port, json=json_get)\n",
    "for key, val in req_json.items():\n",
    "    print(f'{key}:\\t{val}')\n",
    "print()\n",
    "\n",
    "req_result = get_req_result(req_json)\n",
    "for key, val in req_result.items():\n",
    "    print(f'{key}:\\t{val}')"
   ]
  },
  {
   "cell_type": "markdown",
   "id": "763d765e",
   "metadata": {},
   "source": [
    "## publish\n",
    "#### Create or replace a stream claim at a given name (use 'stream create/update' for more control)"
   ]
  },
  {
   "cell_type": "code",
   "execution_count": null,
   "id": "a2cd3b24",
   "metadata": {},
   "outputs": [],
   "source": [
    "json_publish = {\n",
    "    \"method\": \"publish\",\n",
    "    \"params\": {\n",
    "        \"name\": \"testing-video\",\n",
    "        \"bid\": \"0.0001\",\n",
    "        \"file_path\": \"path/to/file\",\n",
    "        # \"file_name\": \"name of file to be associated with stream\",\n",
    "        # \"file_hash\": \"(str) hash of file to be associated with stream\",\n",
    "        # \"validate_file\": \"\"\"(bool) validate that the video container and \\\n",
    "        #                     encodings match common web browser support or \\\n",
    "        #                     that optimization succeeds if specified. \\\n",
    "        #                     FFmpeg is required\"\"\",\n",
    "        \"optimize_file\": True,\n",
    "        # \"fee_currency\": \"(str) specify fee currency\",\n",
    "        # \"fee_amount\": \"(float) content download fee\",\n",
    "        # \"fee_address\": \"\"\"(str) address where to send fee payments, \\\n",
    "        #                     will use value from --claim_address if not provided\"\"\",\n",
    "        \"title\": \"Testing Video\",\n",
    "        \"description\": \"This is a testing video\",\n",
    "        # \"author\": \"(str) author of the publication\",\n",
    "        \"tags\": ['testing', 'video', 'from-python'],\n",
    "        \"languages\": ['en'],\n",
    "        # \"locations\": [{'country': 'US', 'state': 'NH'}],\n",
    "        \"license\": \"Public Domain\",\n",
    "        # \"license_url\": \"(str) publication license url\",\n",
    "        \"thumbnail_url\": \"https://xyz123.jpg\",\n",
    "        # \"release_time\": \"(int) original public release of content, seconds since UNIX epoch\",\n",
    "        # \"channel_id\": \"87a5389f61b25210e8d44ba480123dc287c1c5df\",\n",
    "        \"channel_name\": \"@testing_channel_123456789\",\n",
    "        # \"channel_account_id\": \"\"\"(str) one or more account ids for accounts \\\n",
    "        #                             to look in for channel certificates, \\\n",
    "        #                             defaults to all accounts\"\"\",\n",
    "        # \"account_id\": \"(str) account to use for holding the transaction\",\n",
    "        # \"wallet_id\": \"(str) restrict operation to specific wallet\",\n",
    "        # \"funding_account_ids\": [\"(list) ids of accounts to fund this transaction\"],\n",
    "        # \"claim_address\": \"\"\"(str) address where the claim is sent to, \\\n",
    "        #                     if not specified it will be determined \\\n",
    "        #                     automatically from the account\"\"\",\n",
    "        \"preview\": False,\n",
    "        \"blocking\": False,\n",
    "    }\n",
    "}"
   ]
  },
  {
   "cell_type": "code",
   "execution_count": null,
   "id": "e012c3d2",
   "metadata": {},
   "outputs": [],
   "source": [
    "req_json = get_req_json(port, json=json_publish)\n",
    "req_result = get_req_result(req_json)"
   ]
  },
  {
   "cell_type": "code",
   "execution_count": null,
   "id": "d175ecca",
   "metadata": {},
   "outputs": [],
   "source": [
    "req_result_inputs = req_result['inputs'][0]\n",
    "for key, val in req_result_inputs.items():\n",
    "    print(f'{key}:\\t{val}')"
   ]
  },
  {
   "cell_type": "code",
   "execution_count": null,
   "id": "1cced97a",
   "metadata": {},
   "outputs": [],
   "source": [
    "# Contain sensitive user-specific information\n",
    "req_result_outputs = req_result['outputs'][0]\n",
    "for key, val in req_result_outputs.items():\n",
    "    print(f'{key}:\\t{val}')"
   ]
  }
 ],
 "metadata": {
  "kernelspec": {
   "display_name": "Python 3 (ipykernel)",
   "language": "python",
   "name": "python3"
  },
  "language_info": {
   "codemirror_mode": {
    "name": "ipython",
    "version": 3
   },
   "file_extension": ".py",
   "mimetype": "text/x-python",
   "name": "python",
   "nbconvert_exporter": "python",
   "pygments_lexer": "ipython3",
   "version": "3.10.4"
  }
 },
 "nbformat": 4,
 "nbformat_minor": 5
}
