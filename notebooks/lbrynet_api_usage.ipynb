{
 "cells": [
  {
   "cell_type": "markdown",
   "id": "1ba0ca6a",
   "metadata": {},
   "source": [
    "# lbrynet API - Example Usage"
   ]
  },
  {
   "cell_type": "markdown",
   "id": "31c475a8",
   "metadata": {},
   "source": [
    "## Imports and Functions Definitions"
   ]
  },
  {
   "cell_type": "code",
   "execution_count": 7,
   "id": "a73b02ef",
   "metadata": {},
   "outputs": [],
   "source": [
    "import requests\n",
    "from requests import ConnectionError"
   ]
  },
  {
   "cell_type": "code",
   "execution_count": 8,
   "id": "e642c804",
   "metadata": {},
   "outputs": [],
   "source": [
    "# Set the port that lbrynet listens to\n",
    "port = \"http://localhost:5279\"\n",
    "# port = \"http://localhost:9999\""
   ]
  },
  {
   "cell_type": "code",
   "execution_count": 9,
   "id": "660c7368",
   "metadata": {},
   "outputs": [],
   "source": [
    "def get_req_json(port, json=None) -> dict:\n",
    "    \"\"\"Perform post request to lbrynet, get back the returned json.\"\"\"\n",
    "    try:\n",
    "        if json is None:\n",
    "            json = {}\n",
    "        return requests.post(port, json=json).json()\n",
    "    except ConnectionError as e:\n",
    "        raise e from None"
   ]
  },
  {
   "cell_type": "code",
   "execution_count": 10,
   "id": "ce1afa18",
   "metadata": {},
   "outputs": [],
   "source": [
    "def get_req_result(req_json) -> dict:\n",
    "    \"\"\"Try to get 'result' from json, except error occured in the post request.\"\"\"\n",
    "    try:\n",
    "        return req_json[\"result\"]\n",
    "    except KeyError as e:\n",
    "        req_err = req_json[\"error\"]\n",
    "        if req_err[\"data\"][\"name\"] != \"ValueError\":\n",
    "            raise ValueError(req_err[\"message\"]) from None\n",
    "        else:\n",
    "            tb = req_err[\"data\"][\"traceback\"]\n",
    "            for idx, line in enumerate(tb):\n",
    "                if line.find(\"Error:\") != -1:\n",
    "                    err_idx = idx\n",
    "            print(tb[0])\n",
    "            for line in range(1, err_idx):\n",
    "                print(f\"\\t{tb[line]}\")\n",
    "            print(f\"\\n{''.join(tb[err_idx:])}\", end=\"\\n\\n\")"
   ]
  },
  {
   "cell_type": "markdown",
   "id": "664cd7e8",
   "metadata": {},
   "source": [
    "## version\n",
    "#### Get lbrynet version"
   ]
  },
  {
   "cell_type": "code",
   "execution_count": 5,
   "id": "bba0d7c3",
   "metadata": {},
   "outputs": [
    {
     "name": "stdout",
     "output_type": "stream",
     "text": [
      "jsonrpc:\t2.0\n",
      "result:\t{'build': 'release', 'lbrynet_version': '0.107.1', 'os_release': '21.4.0', 'os_system': 'Darwin', 'platform': 'Darwin-21.4.0-x86_64-i386-64bit', 'processor': 'i386', 'python_version': '3.7.12', 'version': '0.107.1'}\n",
      "\n",
      "build:\trelease\n",
      "lbrynet_version:\t0.107.1\n",
      "os_release:\t21.4.0\n",
      "os_system:\tDarwin\n",
      "platform:\tDarwin-21.4.0-x86_64-i386-64bit\n",
      "processor:\ti386\n",
      "python_version:\t3.7.12\n",
      "version:\t0.107.1\n"
     ]
    }
   ],
   "source": [
    "req_json = get_req_json(port, json={\"method\": \"version\"})\n",
    "for key, val in req_json.items():\n",
    "    print(f'{key}:\\t{val}')\n",
    "print()\n",
    "req_result = get_req_result(req_json)\n",
    "for key, val in req_result.items():\n",
    "    print(f'{key}:\\t{val}')"
   ]
  },
  {
   "cell_type": "markdown",
   "id": "74afd55e",
   "metadata": {},
   "source": [
    "## ffmpeg_find\n",
    "#### Get ffmpeg installation information"
   ]
  },
  {
   "cell_type": "code",
   "execution_count": null,
   "id": "1986c384",
   "metadata": {},
   "outputs": [],
   "source": [
    "req_json = get_req_json(port, json={\"method\": \"ffmpeg_find\"})\n",
    "req_result = get_req_result(req_json)\n",
    "for key, val in req_result.items():\n",
    "    print(f'{key}:\\t{val}')"
   ]
  },
  {
   "cell_type": "markdown",
   "id": "c2692070",
   "metadata": {},
   "source": [
    "## status\n",
    "\n",
    "#### Get daemon status"
   ]
  },
  {
   "cell_type": "code",
   "execution_count": null,
   "id": "1d46a3d1",
   "metadata": {},
   "outputs": [],
   "source": [
    "req_json = get_req_json(port, json={\"method\": \"status\"})\n",
    "req_result = get_req_result(req_json)\n",
    "for key, val in req_result.items():\n",
    "    print(f'{key}:\\t{val}')"
   ]
  },
  {
   "cell_type": "markdown",
   "id": "4e07bf49",
   "metadata": {},
   "source": [
    "## get\n",
    "\n",
    "#### Download stream from a LBRY name"
   ]
  },
  {
   "cell_type": "code",
   "execution_count": null,
   "id": "c7353cad",
   "metadata": {},
   "outputs": [],
   "source": [
    "json_get = {\n",
    "    \"method\": \"get\",\n",
    "    \"params\": {\n",
    "        \"uri\": \"lbry://@AlphaNerd#8/firefox-100-new-features#5\",\n",
    "        # \"file_name\": \"(str) specified name for the downloaded file, overrides the stream file name\",\n",
    "        # \"download_directory\": \"(str) full path to the directory to download into\",\n",
    "        # \"timeout\": \"(int) download timeout in number of seconds\",\n",
    "        # \"save_file\": \"(bool) save the file to the downloads directory\",\n",
    "        # \"wallet_id\": \"(str) wallet to check for claim purchase receipts\",\n",
    "    }\n",
    "}"
   ]
  },
  {
   "cell_type": "code",
   "execution_count": null,
   "id": "db6499b4",
   "metadata": {},
   "outputs": [],
   "source": [
    "req_json = get_req_json(port, json=json_get)\n",
    "req_result = get_req_result(req_json)\n",
    "for key, val in req_result.items():\n",
    "    print(f'{key}:\\t{val}')"
   ]
  },
  {
   "cell_type": "markdown",
   "id": "763d765e",
   "metadata": {},
   "source": [
    "## publish\n",
    "#### Create or replace a stream claim at a given name (use 'stream create/update' for more control)"
   ]
  },
  {
   "cell_type": "code",
   "execution_count": 11,
   "id": "a2cd3b24",
   "metadata": {},
   "outputs": [],
   "source": [
    "json_publish = {\n",
    "    \"method\": \"publish\",\n",
    "    \"params\": {\n",
    "        \"name\": \"testing-video\",\n",
    "        \"bid\": \"0.0001\",\n",
    "        \"file_path\": \"path/to/file\",\n",
    "        # \"file_name\": \"name of file to be associated with stream\",\n",
    "        # \"file_hash\": \"(str) hash of file to be associated with stream\",\n",
    "        # \"validate_file\": \"\"\"(bool) validate that the video container and \\\n",
    "        #                     encodings match common web browser support or \\\n",
    "        #                     that optimization succeeds if specified. \\\n",
    "        #                     FFmpeg is required\"\"\",\n",
    "        \"optimize_file\": True,\n",
    "        # \"fee_currency\": \"(str) specify fee currency\",\n",
    "        # \"fee_amount\": \"(float) content download fee\",\n",
    "        # \"fee_address\": \"\"\"(str) address where to send fee payments, \\\n",
    "        #                     will use value from --claim_address if not provided\"\"\",\n",
    "        \"title\": \"Testing Video\",\n",
    "        \"description\": \"This is a testing video\",\n",
    "        # \"author\": \"(str) author of the publication\",\n",
    "        \"tags\": ['testing', 'video', 'from-python'],\n",
    "        \"languages\": ['en'],\n",
    "        # \"locations\": [{'country': 'US', 'state': 'NH'}],\n",
    "        \"license\": \"Public Domain\",\n",
    "        # \"license_url\": \"(str) publication license url\",\n",
    "        \"thumbnail_url\": \"https://xyz123.jpg\",\n",
    "        # \"release_time\": \"(int) original public release of content, seconds since UNIX epoch\",\n",
    "        # \"channel_id\": \"87a5389f61b25210e8d44ba480123dc287c1c5df\",\n",
    "        \"channel_name\": \"@testing_channel_123456789\",\n",
    "        # \"channel_account_id\": \"\"\"(str) one or more account ids for accounts \\\n",
    "        #                             to look in for channel certificates, \\\n",
    "        #                             defaults to all accounts\"\"\",\n",
    "        # \"account_id\": \"(str) account to use for holding the transaction\",\n",
    "        # \"wallet_id\": \"(str) restrict operation to specific wallet\",\n",
    "        # \"funding_account_ids\": [\"(list) ids of accounts to fund this transaction\"],\n",
    "        # \"claim_address\": \"\"\"(str) address where the claim is sent to, \\\n",
    "        #                     if not specified it will be determined \\\n",
    "        #                     automatically from the account\"\"\",\n",
    "        \"preview\": False,\n",
    "        \"blocking\": False,\n",
    "    }\n",
    "}"
   ]
  },
  {
   "cell_type": "code",
   "execution_count": 12,
   "id": "e012c3d2",
   "metadata": {},
   "outputs": [
    {
     "name": "stdout",
     "output_type": "stream",
     "text": [
      "Traceback (most recent call last):\n",
      "\t  File \"lbry/extras/daemon/daemon.py\", line 778, in _process_rpc_call\n",
      "\t  File \"lbry/extras/daemon/daemon.py\", line 3250, in jsonrpc_publish\n",
      "\t  File \"lbry/extras/daemon/daemon.py\", line 3448, in jsonrpc_stream_create\n",
      "\t  File \"lbry/extras/daemon/daemon.py\", line 5359, in get_channel_or_none\n",
      "\t  File \"lbry/extras/daemon/daemon.py\", line 5388, in get_channel_or_error\n",
      "\n",
      "ValueError: Couldn't find channel with channel_name '@testing_channel_123456789'.\n",
      "\n"
     ]
    }
   ],
   "source": [
    "req_json = get_req_json(port, json=json_publish)\n",
    "req_result = get_req_result(req_json)"
   ]
  },
  {
   "cell_type": "code",
   "execution_count": null,
   "id": "d175ecca",
   "metadata": {},
   "outputs": [],
   "source": [
    "req_result_inputs = req_result['inputs'][0]\n",
    "for key, val in req_result_inputs.items():\n",
    "    print(f'{key}:\\t{val}')"
   ]
  },
  {
   "cell_type": "code",
   "execution_count": null,
   "id": "1cced97a",
   "metadata": {},
   "outputs": [],
   "source": [
    "req_result_outputs = req_result['outputs'][0]\n",
    "for key, val in req_result_outputs.items():\n",
    "    print(f'{key}:\\t{val}')"
   ]
  }
 ],
 "metadata": {
  "kernelspec": {
   "display_name": "Python 3 (ipykernel)",
   "language": "python",
   "name": "python3"
  },
  "language_info": {
   "codemirror_mode": {
    "name": "ipython",
    "version": 3
   },
   "file_extension": ".py",
   "mimetype": "text/x-python",
   "name": "python",
   "nbconvert_exporter": "python",
   "pygments_lexer": "ipython3",
   "version": "3.10.4"
  }
 },
 "nbformat": 4,
 "nbformat_minor": 5
}
